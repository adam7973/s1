{
 "cells": [
  {
   "cell_type": "markdown",
   "id": "21d7bcb6-ff33-4be5-b1f0-32a80c4a03bf",
   "metadata": {},
   "source": [
    "# Software Konstruktion S1 og S2"
   ]
  },
  {
   "cell_type": "markdown",
   "id": "9b20026d-c6d7-4081-a7ac-b69cd1755a3c",
   "metadata": {
    "jp-MarkdownHeadingCollapsed": true,
    "tags": []
   },
   "source": [
    "#### S0001 - S0016: Python introduction (jupyter notebook)    \n",
    "* Variables, Assignments, Operators\n",
    "* String Operations, User Input, f-strings, Control Statements\n",
    "* Lists, Tuples, Dictionaries\n",
    "* Functions, while loops, for loops"
   ]
  },
  {
   "cell_type": "markdown",
   "id": "1f179160-4025-470e-b95c-36951538adcb",
   "metadata": {},
   "source": [
    "#### S0018: Test pycharm and github"
   ]
  },
  {
   "cell_type": "markdown",
   "id": "cd2a6154-7263-4615-b7b0-b434da21e2f9",
   "metadata": {},
   "source": [
    "#### S0020: Exercise \"Tom the Turtle\""
   ]
  },
  {
   "cell_type": "markdown",
   "id": "7bd16f40-b20e-4768-993d-d5d3c8d41dcd",
   "metadata": {},
   "source": [
    "#### S0027 - S0028: Writing to and reading from a file"
   ]
  },
  {
   "cell_type": "markdown",
   "id": "8b4f1fa9-d056-40ae-a2b5-7b760a5139df",
   "metadata": {},
   "source": [
    "#### S0030 - S0033: Exercise \"Morris the Miner\""
   ]
  },
  {
   "cell_type": "markdown",
   "id": "a34e7479-c473-4fdd-a00f-598bf5d3726a",
   "metadata": {},
   "source": [
    "#### S0035 - S0038: Exercise \"Number pyramid\""
   ]
  },
  {
   "cell_type": "markdown",
   "id": "178dc7a1-6e29-44b9-97f2-6fcf1471df82",
   "metadata": {},
   "source": [
    "#### S0045 - S0047: Exercise \"Cars\""
   ]
  },
  {
   "cell_type": "markdown",
   "id": "50e8dfdd-513a-4c00-a10e-bfc8aa32548a",
   "metadata": {},
   "source": [
    "#### S0048 - S0052: \"Cars\" (this time object oriented)\n",
    "* Classes, methods, attributes\n",
    "* Constructor\n",
    "* repr and f-strings\n",
    "* Inheritance and polymorphism\n",
    "* Encapsulation"
   ]
  },
  {
   "cell_type": "markdown",
   "id": "dded4e7a-bfd6-4490-81b8-18cf29094d5f",
   "metadata": {},
   "source": [
    "#### S0055: Exercise \"Morris the Miner\" (this time object oriented)"
   ]
  },
  {
   "cell_type": "markdown",
   "id": "e805a9da-ccf2-4286-b730-f84853f844c0",
   "metadata": {},
   "source": [
    "#### S0060 - S0069: Exercise \"Role playing game\" (and random numbers)"
   ]
  },
  {
   "cell_type": "markdown",
   "id": "f3e4af2b-97f9-413d-afa1-6df6bb1b4fa5",
   "metadata": {},
   "source": [
    "#### S0100 - S0102: Exercise \"The inventory sequence\""
   ]
  },
  {
   "cell_type": "markdown",
   "id": "a39f1920-4a94-4c7c-9597-686edaa1b6a1",
   "metadata": {},
   "source": [
    "#### S01??: Exercise \"\" (gui)"
   ]
  },
  {
   "cell_type": "code",
   "execution_count": null,
   "id": "f8eea1f5-34e3-48b2-8fca-96ba8eced1e2",
   "metadata": {},
   "outputs": [],
   "source": []
  }
 ],
 "metadata": {
  "kernelspec": {
   "display_name": "Python 3 (ipykernel)",
   "language": "python",
   "name": "python3"
  },
  "language_info": {
   "codemirror_mode": {
    "name": "ipython",
    "version": 3
   },
   "file_extension": ".py",
   "mimetype": "text/x-python",
   "name": "python",
   "nbconvert_exporter": "python",
   "pygments_lexer": "ipython3",
   "version": "3.11.0"
  }
 },
 "nbformat": 4,
 "nbformat_minor": 5
}
