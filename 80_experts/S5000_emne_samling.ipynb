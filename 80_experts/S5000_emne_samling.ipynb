{
 "cells": [
  {
   "cell_type": "markdown",
   "metadata": {},
   "source": [
    "# Yderligere materiale, tips og tricks"
   ]
  },
  {
   "cell_type": "markdown",
   "metadata": {},
   "source": [
    "Du har arbejdet med alle S1- og S2-emnerne, og nu vil du gerne lære mere om programmering og Python?   \n",
    "Så er denne fil noget for dig. Her finder du en oversigt over vigtige begreber og værktøjer og også nogle tips og tricks.   \n",
    "\n",
    "Du finder ikke nogen opgaver, som du skal løse, men normalt kun en overskrift, et lille kodeeksempel og nogle videre links.    \n",
    "De fleste af emnerne bygger ikke på hinanden. Du kan vælge de emner, som du finder interessante.\n",
    "\n",
    "Som altid er du velkommen til at spørge din lærer, fx hvis du er i tvivl om en emnes betydning for dig eller når du går i stå på et tidspunkt."
   ]
  },
  {
   "cell_type": "markdown",
   "metadata": {},
   "source": [
    "## Hyppigt anvendte elementer og begreber i Python"
   ]
  },
  {
   "cell_type": "markdown",
   "metadata": {},
   "source": [
    "### Comprehension"
   ]
  },
  {
   "cell_type": "markdown",
   "metadata": {},
   "source": [
    "En populær og elegant måde at definere en liste eller andre objekter på.   \n",
    "     \n",
    "Kort forklaring: https://www.w3schools.com/python/python_lists_comprehension.asp   \n",
    "Komplet forklaring: https://realpython.com/list-comprehension-python/   \n",
    "God forklaring: https://towardsdatascience.com/a-guide-to-python-comprehensions-4d16af68c97e"
   ]
  },
  {
   "cell_type": "code",
   "execution_count": 1,
   "metadata": {},
   "outputs": [
    {
     "name": "stdout",
     "output_type": "stream",
     "text": [
      "dictionary_comprehension = {0: 0, 1: 1, 2: 4, 3: 9, 4: 16, 5: 25, 6: 36, 7: 49, 8: 64, 9: 81}\n",
      "list_comprehension = [0, 1, 4, 9, 16, 25, 36, 49, 64, 81]\n",
      "set_comprehension = {0, 1, 2}\n",
      "generator_comprehension = <generator object <genexpr> at 0x0000025332B31700>\n"
     ]
    }
   ],
   "source": [
    "dictionary_comprehension = {i: i * i for i in range(10)}\n",
    "list_comprehension = [i * i for i in range(10)]\n",
    "set_comprehension = {i%3 for i in range(10)}\n",
    "generator_comprehension = (2 * i + 5 for i in range(10))  # see explanation for generators in this document\n",
    "print(f'{dictionary_comprehension = }')\n",
    "print(f'{list_comprehension = }')\n",
    "print(f'{set_comprehension = }')\n",
    "print(f'{generator_comprehension = }')"
   ]
  },
  {
   "cell_type": "markdown",
   "metadata": {},
   "source": [
    "### Magic Methods (Dunder Methods)"
   ]
  },
  {
   "cell_type": "markdown",
   "metadata": {},
   "source": [
    "Magiske metoder i Python er de specielle metoder, der starter og slutter med dobbelt understregning.    \n",
    "De er ikke beregnet til at blive kaldt direkte af dig, men påkaldet sker internt fra klassen ved en bestemt handling.   \n",
    "Du kan med fordel selv tilpasse dem.\n",
    "\n",
    "Forstår hvad magic methods er og får en overblik om hvilke findes:   \n",
    "https://www.tutorialsteacher.com/python/magic-methods-in-python   "
   ]
  },
  {
   "cell_type": "markdown",
   "metadata": {},
   "source": [
    "### Unpacking"
   ]
  },
  {
   "cell_type": "markdown",
   "metadata": {},
   "source": [
    "Super vigtig blandt andet for parameter unpacking (*args, **kwargs)      \n",
    "     \n",
    "God forklaring for parameter unpacking: https://realpython.com/python-kwargs-and-args/    \n",
    "God forklaring for alle måder man kan bruge unpacking på: https://treyhunner.com/2018/10/asterisks-in-python-what-they-are-and-how-to-use-them/"
   ]
  },
  {
   "cell_type": "code",
   "execution_count": 2,
   "metadata": {},
   "outputs": [
    {
     "name": "stdout",
     "output_type": "stream",
     "text": [
      "a=1 b=[2, 3, 4, 5] c=6 d=7 e=8\n",
      "<class 'list'>\n"
     ]
    }
   ],
   "source": [
    "a, *b, c, d, e = (1, 2, 3, 4, 5, 6, 7, 8)  # *-Operator for unpacking (works for tuples and lists)\n",
    "print(f'{a=} {b=} {c=} {d=} {e=}')\n",
    "print(type(b))"
   ]
  },
  {
   "cell_type": "markdown",
   "metadata": {},
   "source": [
    "### Tuple Declaration, Strings and Tuples as Iterators "
   ]
  },
  {
   "cell_type": "code",
   "execution_count": 9,
   "metadata": {},
   "outputs": [
    {
     "name": "stdout",
     "output_type": "stream",
     "text": [
      "String a\n",
      "String b\n",
      "String c\n",
      "Tuple abc\n"
     ]
    }
   ],
   "source": [
    "eksempel_string = (\"abc\")   # string\n",
    "eksempel_tuple = (\"abc\",)   # tuple\n",
    "for s in eksempel_string:\n",
    "    print(\"String\", s)\n",
    "for t in eksempel_tuple:\n",
    "    print(\"Tuple\", t)"
   ]
  },
  {
   "cell_type": "markdown",
   "metadata": {},
   "source": [
    "### For Loop with 2 or more Iterators"
   ]
  },
  {
   "cell_type": "markdown",
   "metadata": {},
   "source": [
    "Kort forklaring: https://www.w3schools.com/python/ref_func_zip.asp   \n",
    "Komplet forklaring: https://realpython.com/python-zip-function/"
   ]
  },
  {
   "cell_type": "code",
   "execution_count": 5,
   "metadata": {},
   "outputs": [
    {
     "name": "stdout",
     "output_type": "stream",
     "text": [
      "4 a One           5 b Two           6 c Three           "
     ]
    }
   ],
   "source": [
    "for i, j, k in zip(range(4,23), \"abc\", [\"One\", \"Two\", \"Three\", \"Four\"]):\n",
    "    print(i, j, k, end=\"           \")"
   ]
  },
  {
   "cell_type": "markdown",
   "metadata": {},
   "source": [
    "###  Lambda Functions (Example: sort class objects)"
   ]
  },
  {
   "cell_type": "markdown",
   "metadata": {},
   "source": [
    "Praktisk når du skal definere en meget kort funktion, som du bruger bare en gang.   \n",
    "Så kan du gør det indenfor den kodelinje, hvor du bruger funktionen.\n",
    "\n",
    "Kan benyttes hvis der forventes et funktionsobjekt (dvs. kun funktionsnavnet uden parenteser og uden parametre)    \n",
    "på et sted i programkoden, men man ønsker også at overføre funktionsparametre sammen med funktionsobjektet.    \n",
    "Eksempel: command-parameter af en tkinter-button.\n",
    "\n",
    "Kort forklaring: https://www.w3schools.com/python/python_lambda.asp    \n",
    "Komplet forklaring: https://realpython.com/python-lambda/"
   ]
  },
  {
   "cell_type": "code",
   "execution_count": 4,
   "metadata": {},
   "outputs": [
    {
     "name": "stdout",
     "output_type": "stream",
     "text": [
      "before [self.a=9  self.b=3, self.a=7  self.b=5]\n",
      "after  [self.a=7  self.b=5, self.a=9  self.b=3]\n"
     ]
    }
   ],
   "source": [
    "class Dummy:\n",
    "    \n",
    "    def __init__(self, a, b):\n",
    "        self.a = a\n",
    "        self.b = b\n",
    "        \n",
    "    def __repr__(self):\n",
    "        return f\"{self.a=}  {self.b=}\"\n",
    "        \n",
    "dummy1 = Dummy(9, 3)\n",
    "dummy2 = Dummy(7, 5)\n",
    "dummies = [dummy1, dummy2]\n",
    "print(\"before\", dummies)\n",
    "dummies.sort(key=lambda x: x.a, reverse=False)\n",
    "print(\"after \", dummies)"
   ]
  },
  {
   "cell_type": "markdown",
   "metadata": {},
   "source": [
    "### Import (avanceret)"
   ]
  },
  {
   "cell_type": "markdown",
   "metadata": {},
   "source": [
    "Python import: Advanced Techniques and Tips https://realpython.com/python-import/"
   ]
  },
  {
   "cell_type": "markdown",
   "metadata": {},
   "source": [
    "### Inline If (Ternary Operator)"
   ]
  },
  {
   "cell_type": "markdown",
   "metadata": {},
   "source": [
    "Tester en betingelse i en enkelt linje, hvilket gør koden mere kompakt.  \n",
    "Meget praktisk i kombination med (list) comprehension.\n",
    "     \n",
    "Forklaring: https://www.geeksforgeeks.org/ternary-operator-in-python/"
   ]
  },
  {
   "cell_type": "code",
   "execution_count": 6,
   "metadata": {},
   "outputs": [
    {
     "data": {
      "text/plain": [
       "'b'"
      ]
     },
     "execution_count": 6,
     "metadata": {},
     "output_type": "execute_result"
    }
   ],
   "source": [
    "x = \"a\" if 3 > 8 else \"b\"\n",
    "x"
   ]
  },
  {
   "cell_type": "code",
   "execution_count": 2,
   "metadata": {},
   "outputs": [
    {
     "data": {
      "text/plain": [
       "[0, 2, 4, 36, 64]"
      ]
     },
     "execution_count": 2,
     "metadata": {},
     "output_type": "execute_result"
    }
   ],
   "source": [
    "list_comprehension_with_2_if = [i * i if i > 5 else i for i in range(10) if i%2 == 0]\n",
    "list_comprehension_with_2_if"
   ]
  },
  {
   "cell_type": "markdown",
   "metadata": {},
   "source": [
    "## Avancerede koncepter for avancerede programmører"
   ]
  },
  {
   "cell_type": "markdown",
   "metadata": {},
   "source": [
    "### Generators"
   ]
  },
  {
   "cell_type": "markdown",
   "metadata": {},
   "source": [
    "En generatorfunktion er en særlig type funktion, der returnerer en doven iterator.    \n",
    "En iterator er et objekt, som du kan gennemløbe i en løkke, fx en liste.    \n",
    "En doven iterator gemmer kun sit senest genererede element i hukommelsen.     \n",
    "Det kan være meget nyttig, når man har mange elementer eller når elementerne er store.\n",
    "\n",
    "Super gode forklaringer: https://www.youtube.com/watch?v=tmeKsb2Fras   \n",
    "Forklaringerne er dog hurtigt og på et meget højt niveau. Brug dine pause og spol tilbage knapper meget!     \n",
    "Dette gælder også for alle andre videoer fra denne fantastiske YouTube-kanal.   \n",
    "   \n",
    "Udførlig forklaring: https://realpython.com/introduction-to-python-generators/"
   ]
  },
  {
   "cell_type": "code",
   "execution_count": 3,
   "metadata": {},
   "outputs": [
    {
     "name": "stdout",
     "output_type": "stream",
     "text": [
      "0\n",
      "1\n",
      "in a for loop 2\n",
      "in a for loop 3\n",
      "in a for loop 4\n"
     ]
    }
   ],
   "source": [
    "def infinite_sequence():\n",
    "    num = 0\n",
    "    while True:\n",
    "        yield num\n",
    "        num += 1\n",
    "        \n",
    "gen = infinite_sequence()\n",
    "print(next(gen))\n",
    "print(next(gen))\n",
    "for some_iterator in [3, 12, 4]:\n",
    "    print(\"in a for loop\", next(gen))"
   ]
  },
  {
   "cell_type": "markdown",
   "metadata": {},
   "source": [
    "### Asynchronous programming"
   ]
  },
  {
   "cell_type": "markdown",
   "metadata": {},
   "source": [
    "Asynkron programmering betyder, at man foretager anmodninger (requests) og ikke blokerer for at vente på, at de er færdige.    \n",
    "    \n",
    "God introduktion til asyncio: https://www.youtube.com/watch?v=ftmdDlwMwwQ    \n",
    "(Forklaringerne er meget gode men super hurtigt. Brug dine pause og spol tilbage knapper meget!)   \n",
    "God forklaring: https://superfastpython.com/python-asynchronous-programming/    \n",
    "Udførlig forklaring: https://realpython.com/async-io-python/\n"
   ]
  },
  {
   "cell_type": "markdown",
   "metadata": {},
   "source": [
    "### Multiprocessing"
   ]
  },
  {
   "cell_type": "markdown",
   "metadata": {},
   "source": [
    "Multiprocessing giver mulighed for at udnytte flere processorer på en given maskine      \n",
    "fuldt ud ved at omgå den \"Global Interpreter Lock\".   \n",
    "\n",
    "Introduction to multiprocessing: https://www.youtube.com/watch?v=X7vBbelRXn0&t=356s    \n",
    "(Forklaringerne er meget gode men super hurtigt. Brug dine pause og spol tilbage knapper meget!)   \n",
    "Threading vs multiprocessing in python: https://www.youtube.com/watch?v=AZnGRKFUU0c    \n",
    "God og komplet forklaring: https://superfastpython.com/multiprocessing-in-python/    \n",
    "Oficiel dokumentation: https://docs.python.org/3/library/multiprocessing.html"
   ]
  },
  {
   "cell_type": "markdown",
   "metadata": {},
   "source": [
    "## Tips & Tricks"
   ]
  },
  {
   "cell_type": "markdown",
   "metadata": {},
   "source": [
    "### Time"
   ]
  },
  {
   "cell_type": "markdown",
   "metadata": {},
   "source": [
    "En eksempel hvordan man kan arbejde med tid i python.     \n",
    "    \n",
    "Kort forklaring: https://www.w3schools.com/python/python_datetime.asp   \n",
    "Officiel dokumentation: https://docs.python.org/3/library/datetime.html   "
   ]
  },
  {
   "cell_type": "code",
   "execution_count": 7,
   "metadata": {},
   "outputs": [
    {
     "name": "stdout",
     "output_type": "stream",
     "text": [
      "seconds since 01.01.1970:  1683547802.900119\n",
      "transform into readable format:  2023-05-08 14:10:02.900119\n"
     ]
    }
   ],
   "source": [
    "import time\n",
    "from datetime import datetime\n",
    "\n",
    "def time_stub():\n",
    "    now = time.time()\n",
    "    print(\"seconds since 01.01.1970: \", now)\n",
    "    readable = datetime.fromtimestamp(now, tz=None)\n",
    "    print(\"transform into readable format: \", readable)\n",
    "    \n",
    "time_stub()"
   ]
  },
  {
   "cell_type": "markdown",
   "metadata": {},
   "source": [
    "### Profiling (performance optimization, runtime analysis)"
   ]
  },
  {
   "cell_type": "markdown",
   "metadata": {},
   "source": [
    "Kort forklaring: https://www.machinelearningplus.com/python/cprofile-how-to-profile-your-python-code/   \n",
    "Officiel dokumentation: https://docs.python.org/3/library/profile.html"
   ]
  },
  {
   "cell_type": "code",
   "execution_count": 4,
   "metadata": {},
   "outputs": [
    {
     "name": "stdout",
     "output_type": "stream",
     "text": [
      "         200003 function calls in 0.349 seconds\n",
      "\n",
      "   Ordered by: internal time\n",
      "\n",
      "   ncalls  tottime  percall  cumtime  percall filename:lineno(function)\n",
      "        1    0.293    0.293    0.293    0.293 C:\\Users\\ulsc\\AppData\\Local\\Temp\\ipykernel_22268\\3864836158.py:6(test_np)\n",
      "        1    0.027    0.027    0.054    0.054 C:\\Users\\ulsc\\AppData\\Local\\Temp\\ipykernel_22268\\3864836158.py:10(test_math)\n",
      "    99999    0.014    0.000    0.014    0.000 {built-in method math.sin}\n",
      "    99999    0.013    0.000    0.013    0.000 {built-in method math.sqrt}\n",
      "        1    0.001    0.001    0.001    0.001 C:\\Program Files\\Python310\\lib\\cProfile.py:117(__exit__)\n",
      "        1    0.000    0.000    0.347    0.347 C:\\Users\\ulsc\\AppData\\Local\\Temp\\ipykernel_22268\\3864836158.py:14(test)\n",
      "        1    0.000    0.000    0.000    0.000 {method 'disable' of '_lsprof.Profiler' objects}\n",
      "\n",
      "\n"
     ]
    },
    {
     "data": {
      "text/plain": [
       "<pstats.Stats at 0x15adbc36a40>"
      ]
     },
     "execution_count": 4,
     "metadata": {},
     "output_type": "execute_result"
    }
   ],
   "source": [
    "import cProfile\n",
    "import pstats\n",
    "import math\n",
    "import numpy as np\n",
    "\n",
    "def test_np():\n",
    "    for i in range(88888):\n",
    "        x = np.sqrt(i)*np.sin(i)\n",
    "        \n",
    "def test_math():\n",
    "    for i in range(99999):\n",
    "        x = math.sqrt(i)*math.sin(i)\n",
    "\n",
    "def test():\n",
    "    test_np()\n",
    "    test_math()\n",
    "\n",
    "\n",
    "with cProfile.Profile() as pr:\n",
    "    test()\n",
    "stats = pstats.Stats(pr)\n",
    "stats.sort_stats(pstats.SortKey.TIME)\n",
    "stats.print_stats()\n",
    "# stats.dump_stats(filename='needs_profiling.prof')"
   ]
  },
  {
   "cell_type": "markdown",
   "metadata": {
    "tags": []
   },
   "source": [
    "###  JSON"
   ]
  },
  {
   "cell_type": "markdown",
   "metadata": {
    "tags": []
   },
   "source": [
    "Hvordan læser og redigerer man JSON-filer?   \n",
    "    \n",
    "Kort forklaring: https://www.w3schools.com/python/python_json.asp   \n",
    "God forklaring: https://realpython.com/python-json/   \n",
    "Officiel dokumentation: https://docs.python.org/3/library/json.html"
   ]
  },
  {
   "cell_type": "code",
   "execution_count": 12,
   "metadata": {},
   "outputs": [
    {
     "name": "stdout",
     "output_type": "stream",
     "text": [
      "{'id': 1, 'name': 'Leanne Graham', 'username': 'Bret', 'email': 'Sincere@april.biz', 'address': {'street': 'Kulas Light', 'suite': 'Apt. 556', 'city': 'Gwenborough', 'zipcode': '92998-3874', 'geo': {'lat': '-37.3159', 'lng': '81.1496'}}, 'phone': '1-770-736-8031 x56442', 'website': 'hildegard.org', 'company': {'name': 'Romaguera-Crona', 'catchPhrase': 'Multi-layered client-server neural-net', 'bs': 'harness real-time e-markets'}}\n"
     ]
    }
   ],
   "source": [
    "import json\n",
    "import requests\n",
    "\n",
    "read_from_file = False\n",
    "def json_stub():\n",
    "    if read_from_file:\n",
    "        with open(\"insert_filename_here.json\", 'r') as f:\n",
    "            dic = json.loads(f.read())  # invoke json.loads() on the contents of the file, as opposed to the file path of that JSON\n",
    "        print(dic)\n",
    "    else:  # read from web\n",
    "        r = requests.get('https://jsonplaceholder.typicode.com/users')\n",
    "        print(r.json()[0])\n",
    "\n",
    "json_stub()"
   ]
  },
  {
   "cell_type": "markdown",
   "metadata": {},
   "source": [
    "### Colored text"
   ]
  },
  {
   "cell_type": "markdown",
   "metadata": {},
   "source": [
    "Forskellige måder at printe farvet tekst på: https://www.geeksforgeeks.org/print-colors-python-terminal/"
   ]
  },
  {
   "cell_type": "code",
   "execution_count": 9,
   "metadata": {},
   "outputs": [
    {
     "name": "stdout",
     "output_type": "stream",
     "text": [
      "\u001b[30mHello\u001b[0m world \u001b[31mHello\u001b[0m world \u001b[32mHello\u001b[0m world \u001b[33mHello\u001b[0m world \u001b[34mHello\u001b[0m world \u001b[35mHello\u001b[0m world \u001b[36mHello\u001b[0m world \u001b[31;1mHello\u001b[0m world \u001b[32;1mHello\u001b[0m world \u001b[33;1mHello\u001b[0m world \u001b[34;1mHello\u001b[0m world \u001b[35;1mHello\u001b[0m world \u001b[36;1mHello\u001b[0m world \u001b[37;1mHello\u001b[0m world "
     ]
    }
   ],
   "source": [
    "Black, Red, Green, Yellow, Blue, Magenta, Cyan = \"\\u001b[30m\", \"\\u001b[31m\", \"\\u001b[32m\", \"\\u001b[33m\", \"\\u001b[34m\", \"\\u001b[35m\", \"\\u001b[36m\"\n",
    "BrightRed, BrightGreen, BrightYellow, BrightBlue, BrightMagenta, BrightCyan, BrightWhite = \"\\u001b[31;1m\", \"\\u001b[32;1m\", \"\\u001b[33;1m\", \"\\u001b[34;1m\", \"\\u001b[35;1m\", \"\\u001b[36;1m\", \"\\u001b[37;1m\"\n",
    "Reset = \"\\u001b[0m\"\n",
    "colors = [Black, Red, Green, Yellow, Blue, Magenta, Cyan, BrightRed, BrightGreen, BrightYellow, BrightBlue, BrightMagenta, BrightCyan, BrightWhite]\n",
    "for color in colors:\n",
    "    print(color + \"Hello\" + Reset +\" world\", end=\" \")\n"
   ]
  },
  {
   "cell_type": "code",
   "execution_count": null,
   "metadata": {},
   "outputs": [],
   "source": []
  }
 ],
 "metadata": {
  "kernelspec": {
   "display_name": "Python 3 (ipykernel)",
   "language": "python",
   "name": "python3"
  },
  "language_info": {
   "codemirror_mode": {
    "name": "ipython",
    "version": 3
   },
   "file_extension": ".py",
   "mimetype": "text/x-python",
   "name": "python",
   "nbconvert_exporter": "python",
   "pygments_lexer": "ipython3",
   "version": "3.10.7"
  },
  "toc-autonumbering": false,
  "toc-showcode": false,
  "toc-showmarkdowntxt": false,
  "toc-showtags": false
 },
 "nbformat": 4,
 "nbformat_minor": 4
}
